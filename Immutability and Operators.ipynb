{
 "cells": [
  {
   "cell_type": "code",
   "execution_count": null,
   "id": "af86485e",
   "metadata": {},
   "outputs": [],
   "source": [
    "x = [(1,2,3),{1,1,1,2},“This Question is Easy Please don’t skip it”,3.14] -- object 10, name= 1"
   ]
  },
  {
   "cell_type": "code",
   "execution_count": null,
   "id": "fe2d8b97",
   "metadata": {},
   "outputs": [],
   "source": [
    "#Immutibility\n",
    "\n",
    "IMMUTABLE : int,float,str,tuple,nonetype\n",
    "MUTABLE : list,set,dict\n",
    "    \n",
    "x=10\n",
    "y=20 "
   ]
  },
  {
   "cell_type": "code",
   "execution_count": 3,
   "id": "a5baa3e5",
   "metadata": {},
   "outputs": [
    {
     "name": "stdout",
     "output_type": "stream",
     "text": [
      "([10, 20, 30], 4)\n",
      "([10, 20, 30, 40], 4)\n"
     ]
    }
   ],
   "source": [
    "a = ([1,2,3],4)\n",
    "a[0][0]=10\n",
    "a[0][1]=20\n",
    "a[0][2]=30\n",
    "print(a)\n",
    "a[0].append(40)\n",
    "print(a)"
   ]
  },
  {
   "cell_type": "code",
   "execution_count": 2,
   "id": "624760bc",
   "metadata": {},
   "outputs": [
    {
     "ename": "TypeError",
     "evalue": "'tuple' object does not support item assignment",
     "output_type": "error",
     "traceback": [
      "\u001b[0;31m---------------------------------------------------------------------------\u001b[0m",
      "\u001b[0;31mTypeError\u001b[0m                                 Traceback (most recent call last)",
      "Cell \u001b[0;32mIn[2], line 2\u001b[0m\n\u001b[1;32m      1\u001b[0m tuple1\u001b[38;5;241m=\u001b[39m(\u001b[38;5;241m0\u001b[39m,\u001b[38;5;241m1\u001b[39m,\u001b[38;5;241m2\u001b[39m,\u001b[38;5;241m3\u001b[39m)\n\u001b[0;32m----> 2\u001b[0m \u001b[43mtuple1\u001b[49m\u001b[43m[\u001b[49m\u001b[38;5;241;43m0\u001b[39;49m\u001b[43m]\u001b[49m\u001b[38;5;241m=\u001b[39m\u001b[38;5;241m4\u001b[39m\n\u001b[1;32m      3\u001b[0m \u001b[38;5;28mprint\u001b[39m(tuple1)\n",
      "\u001b[0;31mTypeError\u001b[0m: 'tuple' object does not support item assignment"
     ]
    }
   ],
   "source": [
    "tuple1=(0,1,2,3)\n",
    "tuple1[0]=4\n",
    "print(tuple1)"
   ]
  },
  {
   "cell_type": "code",
   "execution_count": 7,
   "id": "d60efaaf",
   "metadata": {},
   "outputs": [
    {
     "name": "stdout",
     "output_type": "stream",
     "text": [
      "W\n"
     ]
    },
    {
     "ename": "TypeError",
     "evalue": "'str' object does not support item assignment",
     "output_type": "error",
     "traceback": [
      "\u001b[0;31m---------------------------------------------------------------------------\u001b[0m",
      "\u001b[0;31mTypeError\u001b[0m                                 Traceback (most recent call last)",
      "Cell \u001b[0;32mIn[7], line 3\u001b[0m\n\u001b[1;32m      1\u001b[0m s \u001b[38;5;241m=\u001b[39m \u001b[38;5;124m\"\u001b[39m\u001b[38;5;124mWelcome to Edyoda\u001b[39m\u001b[38;5;124m\"\u001b[39m\n\u001b[1;32m      2\u001b[0m \u001b[38;5;28mprint\u001b[39m(s[\u001b[38;5;241m0\u001b[39m])\n\u001b[0;32m----> 3\u001b[0m \u001b[43ms\u001b[49m\u001b[43m[\u001b[49m\u001b[38;5;241;43m0\u001b[39;49m\u001b[43m]\u001b[49m\u001b[38;5;241m=\u001b[39m\u001b[38;5;124m'\u001b[39m\u001b[38;5;124mp\u001b[39m\u001b[38;5;124m'\u001b[39m\n\u001b[1;32m      4\u001b[0m \u001b[38;5;28mprint\u001b[39m(s)\n",
      "\u001b[0;31mTypeError\u001b[0m: 'str' object does not support item assignment"
     ]
    }
   ],
   "source": [
    "s = \"Welcome to Edyoda\"\n",
    "print(s[0])\n",
    "s[0]='p'\n",
    "print(s)"
   ]
  },
  {
   "cell_type": "code",
   "execution_count": null,
   "id": "4ac9d536",
   "metadata": {},
   "outputs": [],
   "source": []
  },
  {
   "cell_type": "code",
   "execution_count": 12,
   "id": "599bc30c",
   "metadata": {},
   "outputs": [],
   "source": [
    "import cmath"
   ]
  },
  {
   "cell_type": "code",
   "execution_count": 14,
   "id": "a599cf99",
   "metadata": {},
   "outputs": [
    {
     "name": "stdout",
     "output_type": "stream",
     "text": [
      "(4+5j)\n"
     ]
    }
   ],
   "source": [
    "x= complex(4,5)\n",
    "print(x)"
   ]
  },
  {
   "cell_type": "code",
   "execution_count": null,
   "id": "e2551726",
   "metadata": {},
   "outputs": [],
   "source": [
    "len()------ used to find the length of some datatype."
   ]
  },
  {
   "cell_type": "code",
   "execution_count": 19,
   "id": "bf461ad8",
   "metadata": {},
   "outputs": [
    {
     "name": "stdout",
     "output_type": "stream",
     "text": [
      "{0, 1, 2, 3, 4, 5, 6, 7, 8, 9}\n",
      "[0, 1, 2, 3, 4, 5, 6, 7, 8, 9]\n",
      "10\n"
     ]
    },
    {
     "data": {
      "text/plain": [
       "10"
      ]
     },
     "execution_count": 19,
     "metadata": {},
     "output_type": "execute_result"
    }
   ],
   "source": [
    "list1 = [1,2,3,4,5,6,7,8,9,0]\n",
    "set1= set(list1)\n",
    "print(set1)\n",
    "list2 = list(set1)\n",
    "print(list2)\n",
    "print(len(list2))\n",
    "len(set1)"
   ]
  },
  {
   "cell_type": "code",
   "execution_count": 21,
   "id": "fd095478",
   "metadata": {},
   "outputs": [
    {
     "name": "stdout",
     "output_type": "stream",
     "text": [
      "{'java', 'python'}\n"
     ]
    },
    {
     "ename": "ValueError",
     "evalue": "dictionary update sequence element #0 has length 4; 2 is required",
     "output_type": "error",
     "traceback": [
      "\u001b[0;31m---------------------------------------------------------------------------\u001b[0m",
      "\u001b[0;31mValueError\u001b[0m                                Traceback (most recent call last)",
      "Cell \u001b[0;32mIn[21], line 7\u001b[0m\n\u001b[1;32m      4\u001b[0m set1 \u001b[38;5;241m=\u001b[39m \u001b[38;5;28mset\u001b[39m(dict1)\n\u001b[1;32m      5\u001b[0m \u001b[38;5;28mprint\u001b[39m(set1)\n\u001b[0;32m----> 7\u001b[0m dict2\u001b[38;5;241m=\u001b[39m\u001b[38;5;28;43mdict\u001b[39;49m\u001b[43m(\u001b[49m\u001b[43mset1\u001b[49m\u001b[43m)\u001b[49m\n\u001b[1;32m      8\u001b[0m \u001b[38;5;28mprint\u001b[39m(dict2)\n",
      "\u001b[0;31mValueError\u001b[0m: dictionary update sequence element #0 has length 4; 2 is required"
     ]
    }
   ],
   "source": [
    "#Conversion dict to set\n",
    "\n",
    "dict1 = {'python':3,'java':8}\n",
    "set1 = set(dict1)\n",
    "print(set1)\n",
    "\n",
    "dict2=dict(set1)\n",
    "print(dict2)"
   ]
  },
  {
   "cell_type": "code",
   "execution_count": 24,
   "id": "a89c8660",
   "metadata": {},
   "outputs": [
    {
     "name": "stdout",
     "output_type": "stream",
     "text": [
      "{'python': 3, 'java': 8}\n"
     ]
    }
   ],
   "source": [
    "x = [('python',3),('java',8)]\n",
    "dict1 = dict(x)\n",
    "print(dict1)"
   ]
  },
  {
   "cell_type": "code",
   "execution_count": 32,
   "id": "aed98e7e",
   "metadata": {},
   "outputs": [
    {
     "name": "stdout",
     "output_type": "stream",
     "text": [
      "dict_keys(['python', 'java'])\n",
      "dict_items([('python', 3), ('java', 8)])\n"
     ]
    }
   ],
   "source": [
    "dict1 = {'python':3,'java':8}\n",
    "dict1.values()\n",
    "len(dict1)\n",
    "set(dict1.values())\n",
    "print(dict1.keys())\n",
    "print(dict1.items())"
   ]
  },
  {
   "cell_type": "code",
   "execution_count": null,
   "id": "10e5fc95",
   "metadata": {},
   "outputs": [],
   "source": [
    "Note:- 1.Any datatype can be converted to string.\n",
    "       2.Set don't have indexing."
   ]
  },
  {
   "cell_type": "code",
   "execution_count": null,
   "id": "f79f504c",
   "metadata": {},
   "outputs": [],
   "source": [
    "#How are object stores in memory location\n",
    "1.primitype datatypes:-- basic datatypes which are simpler to store ----> int , float, bool, none, str\n",
    "2.Built-in Datatypes:--- which are like collection and take up seperate memory---->list,set,dict,tuple"
   ]
  },
  {
   "cell_type": "code",
   "execution_count": null,
   "id": "9a7a3843",
   "metadata": {},
   "outputs": [],
   "source": [
    "#Operators in Python\n",
    "1.Arithmetic operator ------ +,-,*,/,%,**,//\n",
    "2.Logical operator ------- and(return true if both statements are true), or(return true if one of the statements is true), not\n",
    "                           (reverse the result, returns flase if the result is true or vice-versa)\n",
    "3.Identity operator ------ is (returns true if both variables are the same object), is not (returns true if both variables are \n",
    "                                                                                            not the same object )\n",
    "4.Membership operator ----- in(found), not in(not found) ----- finding the element from a sequence\n",
    "5.Comparison operator------- ==,<,>,<=,>=,!=\n",
    "6.Assignment operator ------------ =,+=,-=,*=,/=,//=,%=,**=\n",
    "7.Bitwise operator ------- &,|,^,~,<<,>>"
   ]
  },
  {
   "cell_type": "code",
   "execution_count": 62,
   "id": "67c41a67",
   "metadata": {},
   "outputs": [
    {
     "name": "stdout",
     "output_type": "stream",
     "text": [
      "12\n"
     ]
    }
   ],
   "source": [
    "print(3<<2)  #------- 3 ==0000000000000011\n",
    "                      0000000000001100 = 12"
   ]
  },
  {
   "cell_type": "code",
   "execution_count": null,
   "id": "b1b3dbee",
   "metadata": {},
   "outputs": [],
   "source": []
  },
  {
   "cell_type": "code",
   "execution_count": null,
   "id": "3a554383",
   "metadata": {},
   "outputs": [],
   "source": [
    "/- proper division\n",
    "//- rounded value to nearest whole number"
   ]
  },
  {
   "cell_type": "code",
   "execution_count": 34,
   "id": "73972a9c",
   "metadata": {},
   "outputs": [
    {
     "name": "stdout",
     "output_type": "stream",
     "text": [
      "4.0\n"
     ]
    }
   ],
   "source": [
    "x=12\n",
    "y=3\n",
    "print(x/y)"
   ]
  },
  {
   "cell_type": "code",
   "execution_count": 36,
   "id": "04249e2d",
   "metadata": {},
   "outputs": [
    {
     "name": "stdout",
     "output_type": "stream",
     "text": [
      "7.5\n"
     ]
    }
   ],
   "source": [
    "x=15\n",
    "y=2\n",
    "print(x/y)"
   ]
  },
  {
   "cell_type": "code",
   "execution_count": 37,
   "id": "a61af7ed",
   "metadata": {},
   "outputs": [
    {
     "name": "stdout",
     "output_type": "stream",
     "text": [
      "1\n"
     ]
    }
   ],
   "source": [
    "x=15\n",
    "y=2\n",
    "print(x%y)"
   ]
  },
  {
   "cell_type": "code",
   "execution_count": 39,
   "id": "ea7b13e3",
   "metadata": {},
   "outputs": [
    {
     "name": "stdout",
     "output_type": "stream",
     "text": [
      "8\n"
     ]
    }
   ],
   "source": [
    "x=2\n",
    "y=3\n",
    "print(x**y)"
   ]
  },
  {
   "cell_type": "code",
   "execution_count": 50,
   "id": "831a9020",
   "metadata": {},
   "outputs": [
    {
     "name": "stdout",
     "output_type": "stream",
     "text": [
      "True\n",
      "True\n",
      "False\n"
     ]
    }
   ],
   "source": [
    "#Logical Operator\n",
    "x = 5\n",
    "print(x > 3 and x < 18)\n",
    "print(x > 3 or x < 18)\n",
    "print(not(x > 3 and x < 18))"
   ]
  },
  {
   "cell_type": "code",
   "execution_count": 53,
   "id": "a24eb986",
   "metadata": {},
   "outputs": [
    {
     "name": "stdout",
     "output_type": "stream",
     "text": [
      "False\n",
      "True\n",
      "True\n"
     ]
    }
   ],
   "source": [
    "#Identity Opeartor ---- will check the id of variables is equal or not\n",
    "x = ['apple','banana']\n",
    "y = ['apple','banana']\n",
    "z = x\n",
    "print(x is y)\n",
    "print(x is z)\n",
    "print(x==y)"
   ]
  },
  {
   "cell_type": "code",
   "execution_count": 54,
   "id": "770bdf5e",
   "metadata": {},
   "outputs": [
    {
     "name": "stdout",
     "output_type": "stream",
     "text": [
      "True\n",
      "False\n",
      "False\n"
     ]
    }
   ],
   "source": [
    "x = ['apple','banana']\n",
    "y = ['apple','banana']\n",
    "z = x\n",
    "print(x is not y)\n",
    "print(x is not z)\n",
    "print(x!=y)"
   ]
  },
  {
   "cell_type": "code",
   "execution_count": 55,
   "id": "14d517f8",
   "metadata": {},
   "outputs": [
    {
     "name": "stdout",
     "output_type": "stream",
     "text": [
      "True\n"
     ]
    }
   ],
   "source": [
    "x = ['apple','banana']\n",
    "print(\"banana\" in x)"
   ]
  },
  {
   "cell_type": "code",
   "execution_count": 58,
   "id": "86bc2070",
   "metadata": {},
   "outputs": [
    {
     "name": "stdout",
     "output_type": "stream",
     "text": [
      "True\n",
      "False\n"
     ]
    }
   ],
   "source": [
    "x = ['apple','banana']\n",
    "print(\"pineapple\"not in x)\n",
    "\n",
    "print(\"apple\" not in x)"
   ]
  },
  {
   "cell_type": "code",
   "execution_count": 59,
   "id": "25a8d011",
   "metadata": {},
   "outputs": [
    {
     "name": "stdout",
     "output_type": "stream",
     "text": [
      "False\n",
      "False\n",
      "True\n",
      "True\n",
      "False\n",
      "True\n"
     ]
    }
   ],
   "source": [
    "x=2\n",
    "y=3\n",
    "print(x==y)\n",
    "print(x>y)\n",
    "print(x<y)\n",
    "print(x<=y)\n",
    "print(x>=y)\n",
    "print(x!=y)"
   ]
  },
  {
   "cell_type": "code",
   "execution_count": 60,
   "id": "f2199615",
   "metadata": {},
   "outputs": [
    {
     "name": "stdout",
     "output_type": "stream",
     "text": [
      "2\n"
     ]
    }
   ],
   "source": [
    "#Assignment Operator\n",
    "x = 2\n",
    "print(x)"
   ]
  },
  {
   "cell_type": "code",
   "execution_count": 61,
   "id": "063f1d87",
   "metadata": {},
   "outputs": [
    {
     "name": "stdout",
     "output_type": "stream",
     "text": [
      "4\n"
     ]
    }
   ],
   "source": [
    "x+=2 ---------x = x+2\n",
    "print(x)"
   ]
  },
  {
   "cell_type": "code",
   "execution_count": null,
   "id": "63ce21f1",
   "metadata": {},
   "outputs": [],
   "source": [
    "x-=2------>x=x-2"
   ]
  },
  {
   "cell_type": "code",
   "execution_count": null,
   "id": "36925328",
   "metadata": {},
   "outputs": [],
   "source": [
    "#Operator Precedence\n",
    "It describes the oder in which the operation are going to be performed\n"
   ]
  },
  {
   "cell_type": "code",
   "execution_count": 63,
   "id": "5b00abec",
   "metadata": {},
   "outputs": [
    {
     "name": "stdout",
     "output_type": "stream",
     "text": [
      "0\n"
     ]
    }
   ],
   "source": [
    "print((6+3)-(6+3))"
   ]
  },
  {
   "cell_type": "code",
   "execution_count": 64,
   "id": "e6e80419",
   "metadata": {},
   "outputs": [
    {
     "name": "stdout",
     "output_type": "stream",
     "text": [
      "115\n"
     ]
    }
   ],
   "source": [
    "print(100+5*3)"
   ]
  },
  {
   "cell_type": "code",
   "execution_count": null,
   "id": "2358fdba",
   "metadata": {},
   "outputs": [],
   "source": [
    "Preferences:-\n",
    "    ()\n",
    "    **\n",
    "    +x,-x,~x\n",
    "    *,/,//,%\n",
    "    +-\n",
    "    <<,>>\n",
    "    &\n",
    "    ^\n",
    "    |\n",
    "    comparison,identity,membership\n",
    "    not\n",
    "    and\n",
    "    or\n",
    "    \n",
    "    "
   ]
  }
 ],
 "metadata": {
  "kernelspec": {
   "display_name": "Python 3 (ipykernel)",
   "language": "python",
   "name": "python3"
  },
  "language_info": {
   "codemirror_mode": {
    "name": "ipython",
    "version": 3
   },
   "file_extension": ".py",
   "mimetype": "text/x-python",
   "name": "python",
   "nbconvert_exporter": "python",
   "pygments_lexer": "ipython3",
   "version": "3.10.11"
  }
 },
 "nbformat": 4,
 "nbformat_minor": 5
}
